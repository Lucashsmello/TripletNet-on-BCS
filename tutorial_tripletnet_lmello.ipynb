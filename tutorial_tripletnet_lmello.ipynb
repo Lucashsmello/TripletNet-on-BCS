{
 "cells": [
  {
   "cell_type": "markdown",
   "metadata": {},
   "source": [
    "# Loading Data\n",
    "\n",
    "Baixe sua base de dados de http://ninfa.inf.ufes.br/RPDBCS3/data/"
   ]
  },
  {
   "cell_type": "code",
   "execution_count": 1,
   "metadata": {},
   "outputs": [
    {
     "name": "stdout",
     "output_type": "stream",
     "text": [
      "Normalizing Data...\n"
     ]
    }
   ],
   "source": [
    "from rpdbcs.datahandler.dataset import readDataset\n",
    "from rpdbcs.datahandler.dataview import plotSpectrum\n",
    "\n",
    "ROOT_DIR = '/home/lhsmello/ufes/NINFA/lmello_RPDBCS3/data/data_classified_v6'\n",
    "D = readDataset(ROOT_DIR+'/freq.csv', ROOT_DIR+'/labels.csv',\n",
    "                remove_first=100, nsigs=300, npoints=10800)\n",
    "# print(D.asDataFrame()['real_rotation_hz'].values.min())\n",
    "D.normalize(37.28941975);"
   ]
  },
  {
   "cell_type": "markdown",
   "metadata": {},
   "source": [
    "# Loading TripletNet"
   ]
  },
  {
   "cell_type": "code",
   "execution_count": 4,
   "metadata": {},
   "outputs": [],
   "source": [
    "from tripletnet.classifiers.augmented_classifier import EmbeddingWrapper\n",
    "embedder = EmbeddingWrapper.loadModel('5feats_tripletspace.pt')\n",
    "embedder.embedding_net.eval();# evaluation mode. Do not activate if you want to train"
   ]
  },
  {
   "cell_type": "markdown",
   "metadata": {},
   "source": [
    "# Running TripletNet"
   ]
  },
  {
   "cell_type": "code",
   "execution_count": 11,
   "metadata": {},
   "outputs": [
    {
     "name": "stdout",
     "output_type": "stream",
     "text": [
      "[ 0.04186734  0.22520979 -0.11225035  0.02037195  0.03217574]\n"
     ]
    }
   ],
   "source": [
    "signal = D.getSignal(0)\n",
    "\n",
    "triplet_feats = embedder.embed([signal.freq.getY()[:6100]])[0]\n",
    "print(triplet_feats)"
   ]
  },
  {
   "cell_type": "code",
   "execution_count": 12,
   "metadata": {},
   "outputs": [
    {
     "data": {
      "image/png": "[encoded data removed]",
      "text/plain": [
       "<Figure size 1100x400 with 2 Axes>"
      ]
     },
     "metadata": {
      "needs_background": "light"
     },
     "output_type": "display_data"
    }
   ],
   "source": [
    "import seaborn as sns\n",
    "import pandas as pd\n",
    "import matplotlib.pyplot as plt\n",
    "\n",
    "plt.rcParams['figure.dpi'] = 100\n",
    "plt.rcParams['figure.figsize'] = [11, 4]\n",
    "\n",
    "plt.subplot(1,2,1)\n",
    "plotSpectrum(signal)\n",
    "\n",
    "df = pd.DataFrame({'value': triplet_feats})\n",
    "plt.subplot(1,2,2)\n",
    "sns.barplot(data=df, x=df.index, y='value');\n"
   ]
  },
  {
   "cell_type": "markdown",
   "metadata": {},
   "source": [
    "A rede neural usada se encontra no atributo de **EmbeddingWrapper**. Para mais detalhes sobre a arquitetura, veja a classe **tripletnet.networks.lmelloEmbeddingNet2**"
   ]
  },
  {
   "cell_type": "code",
   "execution_count": 4,
   "metadata": {},
   "outputs": [
    {
     "data": {
      "text/plain": [
       "lmelloEmbeddingNet2(\n",
       "  (convnet): Sequential(\n",
       "    (0): Conv1d(1, 16, kernel_size=(5,), stride=(1,))\n",
       "    (1): ReLU()\n",
       "    (2): Dropout(p=0.2, inplace=False)\n",
       "    (3): MaxPool1d(kernel_size=4, stride=4, padding=0, dilation=1, ceil_mode=False)\n",
       "    (4): Conv1d(16, 32, kernel_size=(5,), stride=(1,))\n",
       "    (5): ReLU()\n",
       "    (6): Dropout(p=0.2, inplace=False)\n",
       "    (7): MaxPool1d(kernel_size=4, stride=4, padding=0, dilation=1, ceil_mode=False)\n",
       "    (8): Conv1d(32, 64, kernel_size=(5,), stride=(1,))\n",
       "    (9): ReLU()\n",
       "    (10): Dropout(p=0.2, inplace=False)\n",
       "    (11): MaxPool1d(kernel_size=4, stride=4, padding=0, dilation=1, ceil_mode=False)\n",
       "  )\n",
       "  (fc): Sequential(\n",
       "    (0): Linear(in_features=6016, out_features=192, bias=True)\n",
       "    (1): ReLU()\n",
       "    (2): Linear(in_features=192, out_features=5, bias=True)\n",
       "  )\n",
       ")"
      ]
     },
     "execution_count": 4,
     "metadata": {},
     "output_type": "execute_result"
    }
   ],
   "source": [
    "embedder.embedding_net"
   ]
  },
  {
   "cell_type": "code",
   "execution_count": null,
   "metadata": {},
   "outputs": [],
   "source": []
  }
 ],
 "metadata": {
  "kernelspec": {
   "display_name": "Python 3",
   "language": "python",
   "name": "python3"
  },
  "language_info": {
   "codemirror_mode": {
    "name": "ipython",
    "version": 3
   },
   "file_extension": ".py",
   "mimetype": "text/x-python",
   "name": "python",
   "nbconvert_exporter": "python",
   "pygments_lexer": "ipython3",
   "version": "3.6.9"
  }
 },
 "nbformat": 4,
 "nbformat_minor": 4
}
